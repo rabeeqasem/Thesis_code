{
  "nbformat": 4,
  "nbformat_minor": 0,
  "metadata": {
    "colab": {
      "name": "gps_tracer.ipynb",
      "provenance": [],
      "collapsed_sections": [],
      "authorship_tag": "ABX9TyMwiA+dSVH10aAemjzD/ip5",
      "include_colab_link": true
    },
    "kernelspec": {
      "display_name": "Python 3",
      "name": "python3"
    }
  },
  "cells": [
    {
      "cell_type": "markdown",
      "metadata": {
        "id": "view-in-github",
        "colab_type": "text"
      },
      "source": [
        "<a href=\"https://colab.research.google.com/github/rabeeqasem/Thesis_code/blob/main/Data_extraction/gps_tracer.ipynb\" target=\"_parent\"><img src=\"https://colab.research.google.com/assets/colab-badge.svg\" alt=\"Open In Colab\"/></a>"
      ]
    },
    {
      "cell_type": "code",
      "metadata": {
        "colab": {
          "base_uri": "https://localhost:8080/"
        },
        "id": "0-6_6X_Dh1Nt",
        "outputId": "c40c9a53-030f-4595-b530-c4a4d97eff39"
      },
      "source": [
        "import sys\n",
        "from google.colab import drive\n",
        "drive.mount('/content/drive')\n",
        "sys.path.insert(0,'/content/drive/MyDrive/Rabee_qasem_AAUP/code')"
      ],
      "execution_count": null,
      "outputs": [
        {
          "output_type": "stream",
          "text": [
            "Mounted at /content/drive\n"
          ],
          "name": "stdout"
        }
      ]
    },
    {
      "cell_type": "markdown",
      "metadata": {
        "id": "Ru_TxMyQWFso"
      },
      "source": [
        ""
      ]
    },
    {
      "cell_type": "code",
      "metadata": {
        "id": "3IGBDpAJiGV8",
        "colab": {
          "base_uri": "https://localhost:8080/"
        },
        "outputId": "bd294b72-5392-4eef-afcb-fc4acd794585"
      },
      "source": [
        "#!pip install geojson\n",
        "#!pip install overpass\n",
        "#!pip3 install networkx\n",
        "#!apt install libspatialindex-dev\n",
        "#!pip3 install osmnx\n",
        "#!pip update matplotlib\n",
        "#!pip3 install overpass\n",
        "#!pip3 install urllib2\n",
        "#!pip3 install pyproj\n",
        "#!pip install geocoder\n",
        "#!pip3 install gpxpy"
      ],
      "execution_count": null,
      "outputs": [
        {
          "output_type": "stream",
          "text": [
            "\u001b[31mERROR: Could not find a version that satisfies the requirement urllib2 (from versions: none)\u001b[0m\n",
            "\u001b[31mERROR: No matching distribution found for urllib2\u001b[0m\n",
            "Collecting gpxpy\n",
            "\u001b[?25l  Downloading https://files.pythonhosted.org/packages/dd/23/a1c04fb3ea8d57d4b46cf2956c99a62dfbe009bbe091babeef90cc3d0ef6/gpxpy-1.4.2.tar.gz (105kB)\n",
            "\u001b[K     |████████████████████████████████| 112kB 6.8MB/s \n",
            "\u001b[?25hBuilding wheels for collected packages: gpxpy\n",
            "  Building wheel for gpxpy (setup.py) ... \u001b[?25l\u001b[?25hdone\n",
            "  Created wheel for gpxpy: filename=gpxpy-1.4.2-cp37-none-any.whl size=42545 sha256=307c89336046686cffecce6356cb289b65f4ac217f7441b50d758fd154128622\n",
            "  Stored in directory: /root/.cache/pip/wheels/d9/df/ed/b52985999b3967fa0ef8de22b3dc8ad3494ce3380d5328dd0f\n",
            "Successfully built gpxpy\n",
            "Installing collected packages: gpxpy\n",
            "Successfully installed gpxpy-1.4.2\n"
          ],
          "name": "stdout"
        }
      ]
    },
    {
      "cell_type": "code",
      "metadata": {
        "id": "BqEGjb8Mh89k"
      },
      "source": [
        "import requests\n",
        "import json\n",
        "#import geojson\n",
        "import pandas as pd \n",
        "#import osmnx\n",
        "from tqdm import tqdm\n",
        "import urllib.request as urllib2\n",
        "import time\n",
        "import glob\n",
        "import re\n",
        "import os\n",
        "import xml.etree.ElementTree as ET\n",
        "import time\n",
        "import math as mod_math"
      ],
      "execution_count": null,
      "outputs": []
    },
    {
      "cell_type": "code",
      "metadata": {
        "id": "UvhkD8cVbIt5"
      },
      "source": [
        "def atoi(text):\n",
        "    return int(text) if text.isdigit() else text\n",
        "def natural_keys(text):\n",
        "    return [ atoi(c) for c in re.split(r'(\\d+)', text) ]"
      ],
      "execution_count": null,
      "outputs": []
    },
    {
      "cell_type": "markdown",
      "metadata": {
        "id": "X-cSryQna0mx"
      },
      "source": [
        "# 1-The location area that like to exctract the tracer number from "
      ]
    },
    {
      "cell_type": "code",
      "metadata": {
        "id": "SpKkTQ6S09qh"
      },
      "source": [
        "\n",
        "#Boundary Box\n",
        "#https://github.com/kengggg/osm-gpx-download\n",
        "#left, bottom, right, and top a\n",
        "left = \"12.4520\"#left\n",
        "bottom = \"41.9027\"#bottom\n",
        "right = \"12.4721\"#right\n",
        "top = \"41.9125\" #top\n",
        "#[bbox:41.9027,12.4520,41.9125,12.4721];\n",
        "#Start downloading\n",
        "page = 0\n",
        "url = \"http://api.openstreetmap.org/api/0.6/trackpoints?bbox=\"+left+\",\"+bottom+\",\"+right+\",\"+top+\"&public=1&visibility=public&page=\"\n",
        "file_prefix = \"download_\"\n",
        "file_suffix = \".gpx\"\n",
        "output_directory = \"Tracer\"\n"
      ],
      "execution_count": null,
      "outputs": []
    },
    {
      "cell_type": "code",
      "metadata": {
        "id": "CPOGlfVwvaFG"
      },
      "source": [
        "#Check whether output directory exists?\n",
        "def make_sure_path_exists(path):\n",
        "    try:\n",
        "        os.makedirs(path)\n",
        "    except OSError as exception:\n",
        "        if exception.errno != errno.EEXIST:\n",
        "            raise"
      ],
      "execution_count": null,
      "outputs": []
    },
    {
      "cell_type": "code",
      "metadata": {
        "id": "oprYQDoeQPLF"
      },
      "source": [
        "make_sure_path_exists(output_directory)\n"
      ],
      "execution_count": null,
      "outputs": []
    },
    {
      "cell_type": "markdown",
      "metadata": {
        "id": "u--Io46_a-iG"
      },
      "source": [
        "2-a loop which will keep runing untile the we exctract all the tracers"
      ]
    },
    {
      "cell_type": "code",
      "metadata": {
        "colab": {
          "base_uri": "https://localhost:8080/"
        },
        "id": "t1PstpRvAL81",
        "outputId": "25cec95d-85ba-45f8-9c56-3835fbb8e5ca"
      },
      "source": [
        "program_starts = time.time()\n",
        "while True:\n",
        "    try:\n",
        "        file_name = file_prefix+str(page)+file_suffix\n",
        "        #print(url+str(page))\n",
        "        u = urllib2.urlopen(url+str(page))\n",
        "        check=urllib2.urlopen(url+str(page))\n",
        "        text=str(check.read())\n",
        "        if not re.search('lon',text):\n",
        "          break\n",
        "        f = open(output_directory+\"/\"+file_name, 'wb')\n",
        "        meta = u.info()\n",
        "        file_size = int(meta.__len__())\n",
        "        print(\"Downloading: %s Bytes: %s\" % (file_name, file_size))\n",
        "\n",
        "        block_sz = 8192\n",
        "        while True:\n",
        "            buffer = u.read(block_sz)\n",
        "            if not buffer:\n",
        "                break\n",
        "            f.write(buffer)\n",
        "        f.close()\n",
        "        \n",
        "        page += 1\n",
        "        time.sleep(1)\n",
        "    except urllib2.HTTPError as e:\n",
        "        print (\"Download stopped; HTTP Error - %s\" % e.code)\n",
        "        break\n",
        "end_time = time.time()\n",
        "print(\"total time taken this loop: \", end_time - program_starts)\n"
      ],
      "execution_count": null,
      "outputs": [
        {
          "output_type": "stream",
          "text": [
            "Downloading: download_0.gpx Bytes: 22\n",
            "Downloading: download_1.gpx Bytes: 22\n",
            "Downloading: download_2.gpx Bytes: 22\n",
            "Downloading: download_3.gpx Bytes: 22\n",
            "Downloading: download_4.gpx Bytes: 22\n",
            "Downloading: download_5.gpx Bytes: 22\n",
            "Downloading: download_6.gpx Bytes: 22\n",
            "Downloading: download_7.gpx Bytes: 22\n",
            "Downloading: download_8.gpx Bytes: 22\n",
            "Downloading: download_9.gpx Bytes: 22\n",
            "Downloading: download_10.gpx Bytes: 22\n",
            "Downloading: download_11.gpx Bytes: 22\n",
            "Downloading: download_12.gpx Bytes: 22\n",
            "Downloading: download_13.gpx Bytes: 22\n",
            "Downloading: download_14.gpx Bytes: 22\n",
            "Downloading: download_15.gpx Bytes: 22\n",
            "Downloading: download_16.gpx Bytes: 22\n",
            "Downloading: download_17.gpx Bytes: 22\n",
            "Downloading: download_18.gpx Bytes: 22\n",
            "Downloading: download_19.gpx Bytes: 22\n",
            "Downloading: download_20.gpx Bytes: 22\n",
            "Downloading: download_21.gpx Bytes: 22\n",
            "Downloading: download_22.gpx Bytes: 22\n",
            "Downloading: download_23.gpx Bytes: 22\n",
            "Downloading: download_24.gpx Bytes: 22\n",
            "Downloading: download_25.gpx Bytes: 22\n",
            "Downloading: download_26.gpx Bytes: 22\n",
            "Downloading: download_27.gpx Bytes: 22\n",
            "Downloading: download_28.gpx Bytes: 22\n",
            "Downloading: download_29.gpx Bytes: 22\n",
            "Downloading: download_30.gpx Bytes: 22\n",
            "Downloading: download_31.gpx Bytes: 22\n",
            "Downloading: download_32.gpx Bytes: 22\n",
            "Downloading: download_33.gpx Bytes: 22\n",
            "Downloading: download_34.gpx Bytes: 22\n",
            "Downloading: download_35.gpx Bytes: 22\n",
            "Downloading: download_36.gpx Bytes: 22\n",
            "Downloading: download_37.gpx Bytes: 22\n",
            "Downloading: download_38.gpx Bytes: 22\n",
            "Downloading: download_39.gpx Bytes: 22\n",
            "Downloading: download_40.gpx Bytes: 22\n",
            "Downloading: download_41.gpx Bytes: 22\n",
            "Downloading: download_42.gpx Bytes: 22\n",
            "Downloading: download_43.gpx Bytes: 22\n",
            "Downloading: download_44.gpx Bytes: 22\n",
            "Downloading: download_45.gpx Bytes: 22\n",
            "Downloading: download_46.gpx Bytes: 22\n",
            "Downloading: download_47.gpx Bytes: 22\n",
            "Downloading: download_48.gpx Bytes: 22\n",
            "Downloading: download_49.gpx Bytes: 22\n",
            "Downloading: download_50.gpx Bytes: 22\n",
            "Downloading: download_51.gpx Bytes: 22\n",
            "Downloading: download_52.gpx Bytes: 22\n",
            "Downloading: download_53.gpx Bytes: 22\n",
            "Downloading: download_54.gpx Bytes: 22\n",
            "total time taken this loop:  380.38432574272156\n"
          ],
          "name": "stdout"
        }
      ]
    },
    {
      "cell_type": "code",
      "metadata": {
        "colab": {
          "base_uri": "https://localhost:8080/"
        },
        "id": "YzD1-1CqBDlh",
        "outputId": "14bc87d9-03b7-475f-ec15-678dcfd40d42"
      },
      "source": [
        "print(\"total time minutes taken this loop: \",(end_time - program_starts)/60)\n"
      ],
      "execution_count": null,
      "outputs": [
        {
          "output_type": "stream",
          "text": [
            "total time minutes taken this loop:  6.339738762378692\n"
          ],
          "name": "stdout"
        }
      ]
    },
    {
      "cell_type": "markdown",
      "metadata": {
        "id": "68fRdFGEKr-c"
      },
      "source": [
        "merge the files into one"
      ]
    },
    {
      "cell_type": "code",
      "metadata": {
        "id": "gYUBpH-8KrE6",
        "colab": {
          "base_uri": "https://localhost:8080/"
        },
        "outputId": "d57e0035-556f-495a-9558-45de73f98a7d"
      },
      "source": [
        "#https://github.com/kengggg/osm-gpx-download/blob/master/gpx-merger.py\n",
        "gpx_list = [os.path.basename(x) for x in glob.glob(r'/content/Tracer/' + '*.gpx')]\n",
        "gpx_list.sort(key=natural_keys)\n",
        "gpx_list"
      ],
      "execution_count": null,
      "outputs": [
        {
          "output_type": "execute_result",
          "data": {
            "text/plain": [
              "['download_0.gpx',\n",
              " 'download_1.gpx',\n",
              " 'download_2.gpx',\n",
              " 'download_3.gpx',\n",
              " 'download_4.gpx',\n",
              " 'download_5.gpx',\n",
              " 'download_6.gpx',\n",
              " 'download_7.gpx',\n",
              " 'download_8.gpx',\n",
              " 'download_9.gpx',\n",
              " 'download_10.gpx',\n",
              " 'download_11.gpx',\n",
              " 'download_12.gpx',\n",
              " 'download_13.gpx',\n",
              " 'download_14.gpx',\n",
              " 'download_15.gpx',\n",
              " 'download_16.gpx',\n",
              " 'download_17.gpx',\n",
              " 'download_18.gpx',\n",
              " 'download_19.gpx',\n",
              " 'download_20.gpx',\n",
              " 'download_21.gpx',\n",
              " 'download_22.gpx',\n",
              " 'download_23.gpx',\n",
              " 'download_24.gpx',\n",
              " 'download_25.gpx',\n",
              " 'download_26.gpx',\n",
              " 'download_27.gpx',\n",
              " 'download_28.gpx',\n",
              " 'download_29.gpx',\n",
              " 'download_30.gpx',\n",
              " 'download_31.gpx',\n",
              " 'download_32.gpx',\n",
              " 'download_33.gpx',\n",
              " 'download_34.gpx',\n",
              " 'download_35.gpx',\n",
              " 'download_36.gpx',\n",
              " 'download_37.gpx',\n",
              " 'download_38.gpx',\n",
              " 'download_39.gpx',\n",
              " 'download_40.gpx',\n",
              " 'download_41.gpx',\n",
              " 'download_42.gpx',\n",
              " 'download_43.gpx',\n",
              " 'download_44.gpx',\n",
              " 'download_45.gpx',\n",
              " 'download_46.gpx',\n",
              " 'download_47.gpx',\n",
              " 'download_48.gpx',\n",
              " 'download_49.gpx',\n",
              " 'download_50.gpx',\n",
              " 'download_51.gpx',\n",
              " 'download_52.gpx',\n",
              " 'download_53.gpx',\n",
              " 'download_54.gpx']"
            ]
          },
          "metadata": {
            "tags": []
          },
          "execution_count": 11
        }
      ]
    },
    {
      "cell_type": "code",
      "metadata": {
        "id": "x0k3iK94Q10H"
      },
      "source": [
        "import gpxpy\n",
        "import gpxpy.gpx"
      ],
      "execution_count": null,
      "outputs": []
    },
    {
      "cell_type": "code",
      "metadata": {
        "id": "p7v7YahvVrdi"
      },
      "source": [
        "def format_time(time_s: float) -> str:\n",
        "\n",
        "  minutes = mod_math.floor(time_s / 60.)\n",
        "  hours = mod_math.floor(minutes / 60.)\n",
        "  return '%s:%s:%s' % (str(int(hours)).zfill(2), str(int(minutes % 60)).zfill(2), str(int(time_s % 60)).zfill(2))"
      ],
      "execution_count": null,
      "outputs": []
    },
    {
      "cell_type": "code",
      "metadata": {
        "colab": {
          "base_uri": "https://localhost:8080/",
          "height": 231
        },
        "id": "3fFzk0_xTAWk",
        "outputId": "cb37cb64-d9c9-4ba4-d024-8b2be38c1171"
      },
      "source": [
        "'''\n",
        "gpxt=gpx.tracks\n",
        "moving_data=gpxt[0].get_moving_data()\n",
        "moving_time=moving_data.moving_time\n",
        "stopped_time=moving_data.stopped_time\n",
        "print(f'Moving time: {format_time(moving_data.moving_time)}')\n",
        "print(f'Stopped time: {format_time(moving_data.stopped_time)}')\n",
        "hours=(stopped_time-moving_time)/60/60\n",
        "hours\n",
        "#300/hours\n",
        "'''"
      ],
      "execution_count": null,
      "outputs": [
        {
          "output_type": "error",
          "ename": "NameError",
          "evalue": "ignored",
          "traceback": [
            "\u001b[0;31m---------------------------------------------------------------------------\u001b[0m",
            "\u001b[0;31mNameError\u001b[0m                                 Traceback (most recent call last)",
            "\u001b[0;32m<ipython-input-14-e38e1bdb4a7a>\u001b[0m in \u001b[0;36m<module>\u001b[0;34m()\u001b[0m\n\u001b[0;32m----> 1\u001b[0;31m \u001b[0mgpxt\u001b[0m\u001b[0;34m=\u001b[0m\u001b[0mgpx\u001b[0m\u001b[0;34m.\u001b[0m\u001b[0mtracks\u001b[0m\u001b[0;34m\u001b[0m\u001b[0;34m\u001b[0m\u001b[0m\n\u001b[0m\u001b[1;32m      2\u001b[0m \u001b[0mmoving_data\u001b[0m\u001b[0;34m=\u001b[0m\u001b[0mgpxt\u001b[0m\u001b[0;34m[\u001b[0m\u001b[0;36m0\u001b[0m\u001b[0;34m]\u001b[0m\u001b[0;34m.\u001b[0m\u001b[0mget_moving_data\u001b[0m\u001b[0;34m(\u001b[0m\u001b[0;34m)\u001b[0m\u001b[0;34m\u001b[0m\u001b[0;34m\u001b[0m\u001b[0m\n\u001b[1;32m      3\u001b[0m \u001b[0mmoving_time\u001b[0m\u001b[0;34m=\u001b[0m\u001b[0mmoving_data\u001b[0m\u001b[0;34m.\u001b[0m\u001b[0mmoving_time\u001b[0m\u001b[0;34m\u001b[0m\u001b[0;34m\u001b[0m\u001b[0m\n\u001b[1;32m      4\u001b[0m \u001b[0mstopped_time\u001b[0m\u001b[0;34m=\u001b[0m\u001b[0mmoving_data\u001b[0m\u001b[0;34m.\u001b[0m\u001b[0mstopped_time\u001b[0m\u001b[0;34m\u001b[0m\u001b[0;34m\u001b[0m\u001b[0m\n\u001b[1;32m      5\u001b[0m \u001b[0mprint\u001b[0m\u001b[0;34m(\u001b[0m\u001b[0;34mf'Moving time: {format_time(moving_data.moving_time)}'\u001b[0m\u001b[0;34m)\u001b[0m\u001b[0;34m\u001b[0m\u001b[0;34m\u001b[0m\u001b[0m\n",
            "\u001b[0;31mNameError\u001b[0m: name 'gpx' is not defined"
          ]
        }
      ]
    },
    {
      "cell_type": "code",
      "metadata": {
        "id": "aC_zyuFWT_Dt"
      },
      "source": [
        "(end_time-start_time)"
      ],
      "execution_count": null,
      "outputs": []
    },
    {
      "cell_type": "code",
      "metadata": {
        "id": "mLh0n2omxLSb",
        "colab": {
          "base_uri": "https://localhost:8080/"
        },
        "outputId": "e212d213-f73e-472f-cc4a-62fb51308795"
      },
      "source": [
        "import gpxpy\n",
        "import gpxpy.gpx\n",
        "\n",
        "tracer={}\n",
        "index=0\n",
        "for file_name in tqdm(gpx_list):\n",
        "  gpx_file = open(output_directory+\"/\"+file_name, 'r')\n",
        "  gpx = gpxpy.parse(gpx_file)\n",
        "  for trk in gpx.tracks:\n",
        "      tracer[index]={'points':{},'time_dif_hour':0}\n",
        "      #tracer[index]['points']={}\n",
        "      for seg in trk.segments:\n",
        "        #get the points cordinates\n",
        "        for pindex,point in enumerate(seg.points):\n",
        "          tracer[index]['points'][pindex]={}\n",
        "          tracer[index]['points'][pindex]['lat']=point.latitude\n",
        "          tracer[index]['points'][pindex]['lon']=point.longitude\n",
        "        #get the time \n",
        "        moving_data=seg.get_moving_data()\n",
        "        moving_time=moving_data.moving_time\n",
        "        stopped_time=moving_data.stopped_time\n",
        "        tracer[index]['time_dif_hour']=abs((stopped_time-moving_time)/60/60)\n",
        "\n",
        "\n",
        "      index+=1\n"
      ],
      "execution_count": null,
      "outputs": [
        {
          "output_type": "stream",
          "text": [
            "100%|██████████| 55/55 [00:23<00:00,  2.36it/s]\n"
          ],
          "name": "stderr"
        }
      ]
    },
    {
      "cell_type": "code",
      "metadata": {
        "id": "tdfzDhsCfbfQ"
      },
      "source": [
        "tracer.keys()"
      ],
      "execution_count": null,
      "outputs": []
    },
    {
      "cell_type": "code",
      "metadata": {
        "id": "QdrattVad-8z"
      },
      "source": [
        "'''counter=0\n",
        "for i in range(len(tracer)):\n",
        "  counter+=len(tracer[i])\n",
        "counter'''"
      ],
      "execution_count": null,
      "outputs": []
    },
    {
      "cell_type": "code",
      "metadata": {
        "id": "XRqFgA0pr7gk"
      },
      "source": [
        "with open('comp_tracer.json', 'w') as json_file:\n",
        "  json.dump(tracer, json_file,indent=4)"
      ],
      "execution_count": null,
      "outputs": []
    },
    {
      "cell_type": "code",
      "metadata": {
        "id": "ovcbyxAMNv3h"
      },
      "source": [
        "# !zip -r tracer.zip Tracer/ \n"
      ],
      "execution_count": null,
      "outputs": []
    }
  ]
}